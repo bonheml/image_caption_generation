{
 "cells": [
  {
   "cell_type": "code",
   "execution_count": null,
   "metadata": {},
   "outputs": [],
   "source": [
    "%%javascript\n",
    "IPython.OutputArea.prototype._should_scroll = function(lines) {\n",
    "    return false;\n",
    "}"
   ]
  },
  {
   "cell_type": "code",
   "execution_count": null,
   "metadata": {},
   "outputs": [],
   "source": [
    "from keras.models import load_model\n",
    "import pickle as pkl\n",
    "from data_preprocessing.image_processing import FeatureExtractor\n",
    "from commons.utils import load_pickle_file\n",
    "from keras.preprocessing.sequence import pad_sequences\n",
    "from numpy import argmax\n",
    "from models.model_eval import BeamSearch, get_bleu_score\n",
    "from IPython.core.display import Image, display"
   ]
  },
  {
   "cell_type": "code",
   "execution_count": null,
   "metadata": {},
   "outputs": [],
   "source": [
    "# Change the path according to where you stored each component here\n",
    "captions = load_pickle_file('data/preprocessed/captions.pkl.test')\n",
    "features = load_pickle_file('data/preprocessed/Xception_features.pkl.test')\n",
    "tokenizer = load_pickle_file('data/preprocessed/tokenizer.pkl')\n",
    "model = load_model('xception.epoch_04-loss_3.15.hdf5')"
   ]
  },
  {
   "cell_type": "code",
   "execution_count": null,
   "metadata": {},
   "outputs": [],
   "source": [
    "def evaluate_model(model, captions, features, tokenizer, max_iter=50):\n",
    "    y_true = []\n",
    "    y_pred = []\n",
    "    start = len('startseq')\n",
    "    end = -len('endseq')\n",
    "    beam_search = BeamSearch(model, tokenizer)\n",
    "    i = 0\n",
    "    for img_id, caption_list in captions.items():\n",
    "        image_path = \"data/Flicker8k_Dataset/\" + img_id + \".jpg\"\n",
    "        display(Image(image_path, width=500))\n",
    "        y, proba = beam_search.search(features[img_id])\n",
    "        print(\"{} ({:.2E})\\n\".format(y, proba))\n",
    "        refs = [c[start:end].split() for c in caption_list]\n",
    "        y_true.append(refs)\n",
    "        y_pred.append(y.split())\n",
    "        i+=1\n",
    "        if i >= max_iter:\n",
    "            break\n",
    "    get_bleu_score(y_true, y_pred)"
   ]
  },
  {
   "cell_type": "code",
   "execution_count": null,
   "metadata": {},
   "outputs": [],
   "source": [
    "evaluate_model(model, captions, features, tokenizer)"
   ]
  },
  {
   "cell_type": "code",
   "execution_count": null,
   "metadata": {},
   "outputs": [],
   "source": []
  }
 ],
 "metadata": {
  "kernelspec": {
   "display_name": "Python 3",
   "language": "python",
   "name": "python3"
  },
  "language_info": {
   "codemirror_mode": {
    "name": "ipython",
    "version": 3
   },
   "file_extension": ".py",
   "mimetype": "text/x-python",
   "name": "python",
   "nbconvert_exporter": "python",
   "pygments_lexer": "ipython3",
   "version": "3.6.4"
  }
 },
 "nbformat": 4,
 "nbformat_minor": 2
}
